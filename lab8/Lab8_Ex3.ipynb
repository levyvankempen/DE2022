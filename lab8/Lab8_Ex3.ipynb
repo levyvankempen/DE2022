{
 "cells": [
  {
   "cell_type": "code",
   "execution_count": 2,
   "id": "e8720a44-948d-4a11-a00b-1049b58f533a",
   "metadata": {},
   "outputs": [
    {
     "name": "stdout",
     "output_type": "stream",
     "text": [
      "root\n",
      " |-- from_csv(value): struct (nullable = true)\n",
      " |    |-- uname: string (nullable = true)\n",
      " |    |-- tname: string (nullable = true)\n",
      " |    |-- score: integer (nullable = true)\n",
      " |    |-- timestamp_in_ms: long (nullable = true)\n",
      " |    |-- readable_time: string (nullable = true)\n",
      "\n",
      "root\n",
      " |-- uname: string (nullable = true)\n",
      " |-- tname: string (nullable = true)\n",
      " |-- score: integer (nullable = true)\n",
      " |-- timestamp_in_ms: long (nullable = true)\n",
      " |-- readable_time: string (nullable = true)\n",
      "\n",
      "root\n",
      " |-- uname: string (nullable = true)\n",
      " |-- tname: string (nullable = true)\n",
      " |-- score: integer (nullable = true)\n",
      " |-- timestamp_in_ms: long (nullable = true)\n",
      " |-- readable_time: string (nullable = true)\n",
      " |-- event_time: timestamp (nullable = true)\n",
      "\n",
      "root\n",
      " |-- key: string (nullable = true)\n",
      " |-- value: string (nullable = true)\n",
      "\n"
     ]
    },
    {
     "name": "stderr",
     "output_type": "stream",
     "text": [
      "ERROR:root:KeyboardInterrupt while sending command.\n",
      "Traceback (most recent call last):\n",
      "  File \"/usr/local/spark/python/lib/py4j-0.10.9.5-src.zip/py4j/java_gateway.py\", line 1038, in send_command\n",
      "    response = connection.send_command(command)\n",
      "  File \"/usr/local/spark/python/lib/py4j-0.10.9.5-src.zip/py4j/clientserver.py\", line 511, in send_command\n",
      "    answer = smart_decode(self.stream.readline()[:-1])\n",
      "  File \"/opt/conda/lib/python3.10/socket.py\", line 705, in readinto\n",
      "    return self._sock.recv_into(b)\n",
      "KeyboardInterrupt\n"
     ]
    },
    {
     "name": "stdout",
     "output_type": "stream",
     "text": [
      "Stoped the streaming query and the spark context\n"
     ]
    }
   ],
   "source": [
    "from pyspark import SparkConf\n",
    "from pyspark.sql import SparkSession\n",
    "from pyspark.sql.functions import window, col, avg, concat, lit, from_csv\n",
    "from pyspark.sql.types import StructType, StructField, LongType, StringType, IntegerType\n",
    "\n",
    "sparkConf = SparkConf()\n",
    "sparkConf.setMaster(\"spark://spark-master:7077\")\n",
    "sparkConf.setAppName(\"Lab8_Ex3\")\n",
    "sparkConf.set(\"spark.driver.memory\", \"2g\")\n",
    "sparkConf.set(\"spark.executor.cores\", \"1\")\n",
    "sparkConf.set(\"spark.driver.cores\", \"1\")\n",
    "\n",
    "# create the spark session, which is the entry point to Spark SQL engine.\n",
    "spark = SparkSession.builder.config(conf=sparkConf).getOrCreate()\n",
    "\n",
    "dataSchema = StructType(\n",
    "    [StructField(\"uname\", StringType(), True),\n",
    "     StructField(\"tname\", StringType(), True),\n",
    "     StructField(\"score\", IntegerType(), True),\n",
    "     StructField(\"timestamp_in_ms\", LongType(), True),\n",
    "     StructField(\"readable_time\", StringType(), True)\n",
    "     ])\n",
    "\n",
    "# Read the whole dataset as a batch\n",
    "kafkaStream = spark \\\n",
    "    .readStream \\\n",
    "    .format(\"kafka\") \\\n",
    "    .option(\"kafka.bootstrap.servers\", \"kafka1:9093\") \\\n",
    "    .option(\"failOnDataLoss\", \"false\") \\\n",
    "    .option(\"subscribe\", \"game\") \\\n",
    "    .option(\"startingOffsets\", \"latest\") \\\n",
    "    .load()\n",
    "\n",
    "df = kafkaStream.selectExpr(\"CAST(value AS STRING)\")\n",
    "\n",
    "df1 = df.select(from_csv(df.value, dataSchema.simpleString()))\n",
    "\n",
    "df1.printSchema()\n",
    "\n",
    "sdf = df1.select(col(\"from_csv(value).*\"))\n",
    "\n",
    "sdf.printSchema()\n",
    "\n",
    "# create the event time column \n",
    "withEventTimedf = sdf.selectExpr(\n",
    "    \"*\",\n",
    "    \"cast(timestamp_in_ms/1000.0 as timestamp) as event_time\")\n",
    "\n",
    "withEventTimedf.printSchema()\n",
    "\n",
    "avgscoredf = withEventTimedf \\\n",
    "    .groupBy(window(col(\"event_time\"), \"10 seconds\"), \"uname\", \"tname\") \\\n",
    "    .agg(avg(\"score\").alias(\"value\"))\n",
    "\n",
    "resultdf = avgscoredf.select(concat(col(\"uname\"), lit(\" \"), col(\"tname\")).alias(\"key\"), col(\"value\").cast(\"string\"))\n",
    "\n",
    "resultdf.printSchema()\n",
    "\n",
    "query = resultdf \\\n",
    "    .writeStream \\\n",
    "    .format(\"kafka\") \\\n",
    "    .option(\"kafka.bootstrap.servers\", \"kafka1:9093\") \\\n",
    "    .option(\"checkpointLocation\", \"/home/jovyan/checkpoint/gamescore\") \\\n",
    "    .option(\"topic\", \"avg_score\") \\\n",
    "    .outputMode(\"complete\") \\\n",
    "    .start()\n",
    "try:\n",
    "    query.awaitTermination()\n",
    "except KeyboardInterrupt:\n",
    "    query.stop()\n",
    "    # Stop the spark context\n",
    "    spark.stop()\n",
    "    print(\"Stoped the streaming query and the spark context\")"
   ]
  },
  {
   "cell_type": "code",
   "execution_count": 3,
   "id": "f6d06d26-572b-473c-99a5-87d3bd4156d8",
   "metadata": {},
   "outputs": [],
   "source": [
    "# Stop the spark context\n",
    "spark.stop()"
   ]
  },
  {
   "cell_type": "code",
   "execution_count": null,
   "id": "775d8bb0-b383-4cfc-a1b1-609d3cfa6199",
   "metadata": {},
   "outputs": [],
   "source": []
  }
 ],
 "metadata": {
  "kernelspec": {
   "display_name": "Python 3 (ipykernel)",
   "language": "python",
   "name": "python3"
  },
  "language_info": {
   "codemirror_mode": {
    "name": "ipython",
    "version": 3
   },
   "file_extension": ".py",
   "mimetype": "text/x-python",
   "name": "python",
   "nbconvert_exporter": "python",
   "pygments_lexer": "ipython3",
   "version": "3.10.6"
  }
 },
 "nbformat": 4,
 "nbformat_minor": 5
}
