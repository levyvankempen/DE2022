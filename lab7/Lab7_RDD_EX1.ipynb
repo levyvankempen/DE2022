{
 "cells": [
  {
   "cell_type": "code",
   "execution_count": 1,
   "id": "69c65a42",
   "metadata": {},
   "outputs": [],
   "source": [
    "from pyspark.sql import SparkSession\n",
    "spark = SparkSession.builder.appName(\"Lab7_RDD_EX1\").master(\"spark://spark-master:7077\").getOrCreate() \n",
    "sc = spark.sparkContext\n",
    "sc.setLogLevel('FATAL')\n",
    "lines_rdd = spark.sparkContext.textFile(\"/home/jovyan/data/wordcount.txt\") # create a RDD from a text file"
   ]
  },
  {
   "cell_type": "markdown",
   "id": "c2edbd58-c427-4f67-a447-9b77368469de",
   "metadata": {},
   "source": [
    "Find the most frequent word"
   ]
  },
  {
   "cell_type": "code",
   "execution_count": 2,
   "id": "157d1ea8-56ae-4e32-9200-b5153a8c05a9",
   "metadata": {},
   "outputs": [
    {
     "name": "stdout",
     "output_type": "stream",
     "text": [
      "[(22, 'the')]\n"
     ]
    }
   ],
   "source": [
    "from operator import add\n",
    "\n",
    "def myMapFun1(x):\n",
    "    return (x, 1)\n",
    "\n",
    "def myMapFun2(x):\n",
    "    return (x[1], x[0])\n",
    "\n",
    "# Word Couting MapReduce\n",
    "counts = lines_rdd.flatMap(lambda x: x.split(' ')) \\\n",
    "                  .map(myMapFun1) \\\n",
    "                  .reduceByKey(add)\n",
    "\n",
    "print(counts.map(myMapFun2).sortByKey(ascending=False).take(1))"
   ]
  },
  {
   "cell_type": "code",
   "execution_count": 3,
   "id": "9cc727df-50c0-4297-aad7-bcb57d715401",
   "metadata": {},
   "outputs": [],
   "source": [
    "# Stop the spark context\n",
    "spark.stop()"
   ]
  }
 ],
 "metadata": {
  "kernelspec": {
   "display_name": "Python 3 (ipykernel)",
   "language": "python",
   "name": "python3"
  },
  "language_info": {
   "codemirror_mode": {
    "name": "ipython",
    "version": 3
   },
   "file_extension": ".py",
   "mimetype": "text/x-python",
   "name": "python",
   "nbconvert_exporter": "python",
   "pygments_lexer": "ipython3",
   "version": "3.10.6"
  }
 },
 "nbformat": 4,
 "nbformat_minor": 5
}
